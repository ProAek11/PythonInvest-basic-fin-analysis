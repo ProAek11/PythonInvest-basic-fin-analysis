{
  "nbformat": 4,
  "nbformat_minor": 0,
  "metadata": {
    "colab": {
      "name": "PythonInvest.com :: 4. Practical Portfolio Optimisation (PyPortfolioOpt).ipynb",
      "provenance": [],
      "collapsed_sections": [],
      "authorship_tag": "ABX9TyOjsLPy27A5R69cfVXEdfNW",
      "include_colab_link": true
    },
    "kernelspec": {
      "name": "python3",
      "display_name": "Python 3"
    },
    "language_info": {
      "name": "python"
    }
  },
  "cells": [
    {
      "cell_type": "markdown",
      "metadata": {
        "id": "view-in-github",
        "colab_type": "text"
      },
      "source": [
        "<a href=\"https://colab.research.google.com/github/realmistic/PythonInvest-basic-fin-analysis/blob/master/PythonInvest_com_4_Practical_Portfolio_Optimisation_(PyPortfolioOpt).ipynb\" target=\"_parent\"><img src=\"https://colab.research.google.com/assets/colab-badge.svg\" alt=\"Open In Colab\"/></a>"
      ]
    },
    {
      "cell_type": "markdown",
      "metadata": {
        "id": "E-Q7uU5sZp40"
      },
      "source": [
        "> **Practical Portfolio Optimisation**\n",
        "* **What?** Identify an optimal split for a known set of stocks and a given investment size.\n",
        "* **Why?** Smart portfolio management will add a lot to the risk management of your trades: it can reduce the volatility of a portfolio, increase returns per unit of risk, and reduce the bad cases losses\n",
        "* **How?** Use the library PyPortfolioOpt \n",
        "  * User guide: https://pyportfolioopt.readthedocs.io/en/latest/UserGuide.html\n",
        "  * Detailed Colab example (Mean-Variance-Optimisation): https://github.com/robertmartin8/PyPortfolioOpt/blob/master/cookbook/2-Mean-Variance-Optimisation.ipynb\n",
        "* **Plan**\n",
        "  0. Prep work : imports, getting financial data, and pivot table of daily prices\n",
        "  1. Correlation matrix\n",
        "  2. PyPortfolioOpt : min volatility, max Sharpe, and min cVAR portfolios  \n",
        "  3. PyPortfolioOpt : Efficient Frontier\n",
        "  4. PyPortfolioOpt : Discrete Allocation\n",
        "\n",
        "* **Detailed Manual Optimisation for a short-term (3 days) trading** <br>\n",
        "https://pythoninvest.com/long-read/practical-portfolio-optimisation"
      ]
    },
    {
      "cell_type": "markdown",
      "metadata": {
        "id": "oxqHikYxxVgW"
      },
      "source": [
        "# 0. Prep work : imports, getting financial data, and pivot table of daily prices\n",
        "Standard procedures for downloading the data with yfinance"
      ]
    },
    {
      "cell_type": "code",
      "metadata": {
        "id": "55YQOZQfw6Wl",
        "colab": {
          "base_uri": "https://localhost:8080/"
        },
        "outputId": "60813480-bf62-4ec3-8c0a-1b0338e6577d"
      },
      "source": [
        "!pip install yfinance"
      ],
      "execution_count": null,
      "outputs": [
        {
          "output_type": "stream",
          "text": [
            "Collecting yfinance\n",
            "  Downloading yfinance-0.1.63.tar.gz (26 kB)\n",
            "Requirement already satisfied: pandas>=0.24 in /usr/local/lib/python3.7/dist-packages (from yfinance) (1.1.5)\n",
            "Requirement already satisfied: numpy>=1.15 in /usr/local/lib/python3.7/dist-packages (from yfinance) (1.19.5)\n",
            "Requirement already satisfied: requests>=2.20 in /usr/local/lib/python3.7/dist-packages (from yfinance) (2.23.0)\n",
            "Requirement already satisfied: multitasking>=0.0.7 in /usr/local/lib/python3.7/dist-packages (from yfinance) (0.0.9)\n",
            "Collecting lxml>=4.5.1\n",
            "  Downloading lxml-4.6.3-cp37-cp37m-manylinux2014_x86_64.whl (6.3 MB)\n",
            "\u001b[K     |████████████████████████████████| 6.3 MB 6.4 MB/s \n",
            "\u001b[?25hRequirement already satisfied: pytz>=2017.2 in /usr/local/lib/python3.7/dist-packages (from pandas>=0.24->yfinance) (2018.9)\n",
            "Requirement already satisfied: python-dateutil>=2.7.3 in /usr/local/lib/python3.7/dist-packages (from pandas>=0.24->yfinance) (2.8.2)\n",
            "Requirement already satisfied: six>=1.5 in /usr/local/lib/python3.7/dist-packages (from python-dateutil>=2.7.3->pandas>=0.24->yfinance) (1.15.0)\n",
            "Requirement already satisfied: certifi>=2017.4.17 in /usr/local/lib/python3.7/dist-packages (from requests>=2.20->yfinance) (2021.5.30)\n",
            "Requirement already satisfied: chardet<4,>=3.0.2 in /usr/local/lib/python3.7/dist-packages (from requests>=2.20->yfinance) (3.0.4)\n",
            "Requirement already satisfied: urllib3!=1.25.0,!=1.25.1,<1.26,>=1.21.1 in /usr/local/lib/python3.7/dist-packages (from requests>=2.20->yfinance) (1.24.3)\n",
            "Requirement already satisfied: idna<3,>=2.5 in /usr/local/lib/python3.7/dist-packages (from requests>=2.20->yfinance) (2.10)\n",
            "Building wheels for collected packages: yfinance\n",
            "  Building wheel for yfinance (setup.py) ... \u001b[?25l\u001b[?25hdone\n",
            "  Created wheel for yfinance: filename=yfinance-0.1.63-py2.py3-none-any.whl size=23918 sha256=7de673e0860cec4ad64202bdda822114ff5ce7f8b98ad17832aff0d803a8aab2\n",
            "  Stored in directory: /root/.cache/pip/wheels/fe/87/8b/7ec24486e001d3926537f5f7801f57a74d181be25b11157983\n",
            "Successfully built yfinance\n",
            "Installing collected packages: lxml, yfinance\n",
            "  Attempting uninstall: lxml\n",
            "    Found existing installation: lxml 4.2.6\n",
            "    Uninstalling lxml-4.2.6:\n",
            "      Successfully uninstalled lxml-4.2.6\n",
            "Successfully installed lxml-4.6.3 yfinance-0.1.63\n"
          ],
          "name": "stdout"
        }
      ]
    },
    {
      "cell_type": "code",
      "metadata": {
        "id": "1CtZLsvnxJJD"
      },
      "source": [
        "import pandas as pd\n",
        "import yfinance as yf\n",
        "import numpy as np\n",
        "\n",
        "import seaborn as sns\n",
        "import matplotlib.pyplot as plt"
      ],
      "execution_count": null,
      "outputs": []
    },
    {
      "cell_type": "code",
      "metadata": {
        "id": "aNS3w-28xRGz"
      },
      "source": [
        "INVESTMENT = 2000 \n",
        "\n",
        "# PTR = PetroChina Company Limited ADR\n",
        "# BUD = Anheuser Busch Inbev SA (AB InBev)\n",
        "# XOM = Exxon Mobil Corporation\n",
        "# BA = Boeing Co\n",
        "# CHTR = Charter Communications Inc\n",
        "# SHOP = Shopify Inc\n",
        "# NVDA = NVIDIA Corporation\n",
        "# NKE = Nike Inc\n",
        "\n",
        "TICKERS =['PTR','BUD', 'XOM', 'BA','CHTR', 'SHOP', 'NVDA', 'NKE']\n",
        "\n",
        "pd.set_option('display.max_colwidth', None)\n",
        "pd.set_option('display.max_columns', None)\n"
      ],
      "execution_count": null,
      "outputs": []
    },
    {
      "cell_type": "code",
      "metadata": {
        "colab": {
          "base_uri": "https://localhost:8080/"
        },
        "id": "t5OYbXpkxby3",
        "outputId": "3fe3b38f-ba67-48d6-b5f3-a55efda6fcc4"
      },
      "source": [
        "stocks_prices = pd.DataFrame({'A' : []})\n",
        "stocks_info = pd.DataFrame({'A' : []})\n",
        "\n",
        "for i,ticker in enumerate(TICKERS):\n",
        "  print(i,ticker)\n",
        "  yticker = yf.Ticker(ticker)\n",
        "  \n",
        "  # Get max history of prices\n",
        "  historyPrices = yticker.history(period='max')\n",
        "  # generate features for historical prices, and what we want to predict\n",
        "  historyPrices['Ticker'] = ticker\n",
        "  historyPrices['Year']= historyPrices.index.year\n",
        "  historyPrices['Month'] = historyPrices.index.month\n",
        "  historyPrices['Weekday'] = historyPrices.index.weekday\n",
        "  historyPrices['Date'] = historyPrices.index.date\n",
        "  \n",
        "  # historical returns\n",
        "  for i in [1,3,7,30,90,365]:\n",
        "    historyPrices['growth_'+str(i)+'d'] = historyPrices['Close'] / historyPrices['Close'].shift(i)\n",
        "\n",
        "  # future growth 3 days  \n",
        "  historyPrices['future_growth_3d'] = historyPrices['Close'].shift(-3) / historyPrices['Close']\n",
        "\n",
        "  # 30d rolling volatility : https://ycharts.com/glossary/terms/rolling_vol_30\n",
        "  historyPrices['volatility'] =   historyPrices['Close'].rolling(30).std() * np.sqrt(252)\n",
        "\n",
        "  if stocks_prices.empty:\n",
        "    stocks_prices = historyPrices\n",
        "  else: \n",
        "    stocks_prices = pd.concat([stocks_prices,historyPrices], ignore_index=True)"
      ],
      "execution_count": null,
      "outputs": [
        {
          "output_type": "stream",
          "text": [
            "0 PTR\n",
            "1 BUD\n",
            "2 XOM\n",
            "3 BA\n",
            "4 CHTR\n",
            "5 SHOP\n",
            "6 NVDA\n",
            "7 NKE\n"
          ],
          "name": "stdout"
        }
      ]
    },
    {
      "cell_type": "code",
      "metadata": {
        "colab": {
          "base_uri": "https://localhost:8080/"
        },
        "id": "ywZwx8s22GiX",
        "outputId": "93319972-9b65-4fb4-b5b1-789223285132"
      },
      "source": [
        "# Check one day\n",
        "filter_last_date = stocks_prices.Date==stocks_prices.Date.max()\n",
        "print(stocks_prices.Date.max())"
      ],
      "execution_count": null,
      "outputs": [
        {
          "output_type": "stream",
          "text": [
            "2021-08-19\n"
          ],
          "name": "stdout"
        }
      ]
    },
    {
      "cell_type": "code",
      "metadata": {
        "colab": {
          "base_uri": "https://localhost:8080/",
          "height": 470
        },
        "id": "dKHxuGta2Ifk",
        "outputId": "d862a65d-76a5-4e91-935a-7c948c09dc23"
      },
      "source": [
        "stocks_prices[filter_last_date]"
      ],
      "execution_count": null,
      "outputs": [
        {
          "output_type": "execute_result",
          "data": {
            "text/html": [
              "<div>\n",
              "<style scoped>\n",
              "    .dataframe tbody tr th:only-of-type {\n",
              "        vertical-align: middle;\n",
              "    }\n",
              "\n",
              "    .dataframe tbody tr th {\n",
              "        vertical-align: top;\n",
              "    }\n",
              "\n",
              "    .dataframe thead th {\n",
              "        text-align: right;\n",
              "    }\n",
              "</style>\n",
              "<table border=\"1\" class=\"dataframe\">\n",
              "  <thead>\n",
              "    <tr style=\"text-align: right;\">\n",
              "      <th></th>\n",
              "      <th>Open</th>\n",
              "      <th>High</th>\n",
              "      <th>Low</th>\n",
              "      <th>Close</th>\n",
              "      <th>Volume</th>\n",
              "      <th>Dividends</th>\n",
              "      <th>Stock Splits</th>\n",
              "      <th>Ticker</th>\n",
              "      <th>Year</th>\n",
              "      <th>Month</th>\n",
              "      <th>Weekday</th>\n",
              "      <th>Date</th>\n",
              "      <th>growth_1d</th>\n",
              "      <th>growth_3d</th>\n",
              "      <th>growth_7d</th>\n",
              "      <th>growth_30d</th>\n",
              "      <th>growth_90d</th>\n",
              "      <th>growth_365d</th>\n",
              "      <th>future_growth_3d</th>\n",
              "      <th>volatility</th>\n",
              "    </tr>\n",
              "  </thead>\n",
              "  <tbody>\n",
              "    <tr>\n",
              "      <th>5376</th>\n",
              "      <td>39.680000</td>\n",
              "      <td>39.549999</td>\n",
              "      <td>38.799999</td>\n",
              "      <td>39.380001</td>\n",
              "      <td>333352.0</td>\n",
              "      <td>0.0</td>\n",
              "      <td>0.0</td>\n",
              "      <td>PTR</td>\n",
              "      <td>2021</td>\n",
              "      <td>8</td>\n",
              "      <td>3</td>\n",
              "      <td>2021-08-19</td>\n",
              "      <td>0.966618</td>\n",
              "      <td>0.921385</td>\n",
              "      <td>0.933618</td>\n",
              "      <td>0.869700</td>\n",
              "      <td>1.138359</td>\n",
              "      <td>1.209024</td>\n",
              "      <td>NaN</td>\n",
              "      <td>20.587218</td>\n",
              "    </tr>\n",
              "    <tr>\n",
              "      <th>8432</th>\n",
              "      <td>59.689999</td>\n",
              "      <td>60.020000</td>\n",
              "      <td>59.371399</td>\n",
              "      <td>60.000000</td>\n",
              "      <td>1707057.0</td>\n",
              "      <td>0.0</td>\n",
              "      <td>0.0</td>\n",
              "      <td>BUD</td>\n",
              "      <td>2021</td>\n",
              "      <td>8</td>\n",
              "      <td>3</td>\n",
              "      <td>2021-08-19</td>\n",
              "      <td>0.986842</td>\n",
              "      <td>0.967742</td>\n",
              "      <td>0.982479</td>\n",
              "      <td>0.861945</td>\n",
              "      <td>0.939786</td>\n",
              "      <td>1.194690</td>\n",
              "      <td>NaN</td>\n",
              "      <td>56.939970</td>\n",
              "    </tr>\n",
              "    <tr>\n",
              "      <th>23442</th>\n",
              "      <td>55.418800</td>\n",
              "      <td>53.705002</td>\n",
              "      <td>52.099998</td>\n",
              "      <td>52.764999</td>\n",
              "      <td>24572819.0</td>\n",
              "      <td>0.0</td>\n",
              "      <td>0.0</td>\n",
              "      <td>XOM</td>\n",
              "      <td>2021</td>\n",
              "      <td>8</td>\n",
              "      <td>3</td>\n",
              "      <td>2021-08-19</td>\n",
              "      <td>0.970123</td>\n",
              "      <td>0.943243</td>\n",
              "      <td>0.920654</td>\n",
              "      <td>0.890649</td>\n",
              "      <td>0.975479</td>\n",
              "      <td>1.355354</td>\n",
              "      <td>NaN</td>\n",
              "      <td>25.911847</td>\n",
              "    </tr>\n",
              "    <tr>\n",
              "      <th>38454</th>\n",
              "      <td>216.300003</td>\n",
              "      <td>218.296494</td>\n",
              "      <td>211.729996</td>\n",
              "      <td>212.750000</td>\n",
              "      <td>10166979.0</td>\n",
              "      <td>0.0</td>\n",
              "      <td>0.0</td>\n",
              "      <td>BA</td>\n",
              "      <td>2021</td>\n",
              "      <td>8</td>\n",
              "      <td>3</td>\n",
              "      <td>2021-08-19</td>\n",
              "      <td>0.971461</td>\n",
              "      <td>0.928796</td>\n",
              "      <td>0.902324</td>\n",
              "      <td>0.898551</td>\n",
              "      <td>0.840013</td>\n",
              "      <td>0.920956</td>\n",
              "      <td>NaN</td>\n",
              "      <td>125.679848</td>\n",
              "    </tr>\n",
              "    <tr>\n",
              "      <th>41375</th>\n",
              "      <td>784.000000</td>\n",
              "      <td>787.969971</td>\n",
              "      <td>777.059998</td>\n",
              "      <td>783.109985</td>\n",
              "      <td>548395.0</td>\n",
              "      <td>0.0</td>\n",
              "      <td>0.0</td>\n",
              "      <td>CHTR</td>\n",
              "      <td>2021</td>\n",
              "      <td>8</td>\n",
              "      <td>3</td>\n",
              "      <td>2021-08-19</td>\n",
              "      <td>0.996995</td>\n",
              "      <td>1.000677</td>\n",
              "      <td>1.021670</td>\n",
              "      <td>1.053275</td>\n",
              "      <td>1.260458</td>\n",
              "      <td>1.642566</td>\n",
              "      <td>NaN</td>\n",
              "      <td>461.594859</td>\n",
              "    </tr>\n",
              "    <tr>\n",
              "      <th>42950</th>\n",
              "      <td>1472.010010</td>\n",
              "      <td>1499.000000</td>\n",
              "      <td>1463.109985</td>\n",
              "      <td>1469.859985</td>\n",
              "      <td>559467.0</td>\n",
              "      <td>0.0</td>\n",
              "      <td>0.0</td>\n",
              "      <td>SHOP</td>\n",
              "      <td>2021</td>\n",
              "      <td>8</td>\n",
              "      <td>3</td>\n",
              "      <td>2021-08-19</td>\n",
              "      <td>0.987026</td>\n",
              "      <td>0.987146</td>\n",
              "      <td>0.963249</td>\n",
              "      <td>1.004456</td>\n",
              "      <td>1.183901</td>\n",
              "      <td>3.263889</td>\n",
              "      <td>NaN</td>\n",
              "      <td>715.697538</td>\n",
              "    </tr>\n",
              "    <tr>\n",
              "      <th>48633</th>\n",
              "      <td>194.940002</td>\n",
              "      <td>204.949997</td>\n",
              "      <td>187.620300</td>\n",
              "      <td>197.789993</td>\n",
              "      <td>70818650.0</td>\n",
              "      <td>0.0</td>\n",
              "      <td>0.0</td>\n",
              "      <td>NVDA</td>\n",
              "      <td>2021</td>\n",
              "      <td>8</td>\n",
              "      <td>3</td>\n",
              "      <td>2021-08-19</td>\n",
              "      <td>1.038813</td>\n",
              "      <td>0.991429</td>\n",
              "      <td>0.992125</td>\n",
              "      <td>0.993782</td>\n",
              "      <td>1.261745</td>\n",
              "      <td>3.035264</td>\n",
              "      <td>NaN</td>\n",
              "      <td>91.009245</td>\n",
              "    </tr>\n",
              "    <tr>\n",
              "      <th>58898</th>\n",
              "      <td>166.960007</td>\n",
              "      <td>167.520004</td>\n",
              "      <td>164.369995</td>\n",
              "      <td>165.716705</td>\n",
              "      <td>6176912.0</td>\n",
              "      <td>0.0</td>\n",
              "      <td>0.0</td>\n",
              "      <td>NKE</td>\n",
              "      <td>2021</td>\n",
              "      <td>8</td>\n",
              "      <td>3</td>\n",
              "      <td>2021-08-19</td>\n",
              "      <td>0.981676</td>\n",
              "      <td>0.961457</td>\n",
              "      <td>0.961959</td>\n",
              "      <td>1.031667</td>\n",
              "      <td>1.243456</td>\n",
              "      <td>1.897051</td>\n",
              "      <td>NaN</td>\n",
              "      <td>76.246016</td>\n",
              "    </tr>\n",
              "  </tbody>\n",
              "</table>\n",
              "</div>"
            ],
            "text/plain": [
              "              Open         High          Low        Close      Volume  \\\n",
              "5376     39.680000    39.549999    38.799999    39.380001    333352.0   \n",
              "8432     59.689999    60.020000    59.371399    60.000000   1707057.0   \n",
              "23442    55.418800    53.705002    52.099998    52.764999  24572819.0   \n",
              "38454   216.300003   218.296494   211.729996   212.750000  10166979.0   \n",
              "41375   784.000000   787.969971   777.059998   783.109985    548395.0   \n",
              "42950  1472.010010  1499.000000  1463.109985  1469.859985    559467.0   \n",
              "48633   194.940002   204.949997   187.620300   197.789993  70818650.0   \n",
              "58898   166.960007   167.520004   164.369995   165.716705   6176912.0   \n",
              "\n",
              "       Dividends  Stock Splits Ticker  Year  Month  Weekday        Date  \\\n",
              "5376         0.0           0.0    PTR  2021      8        3  2021-08-19   \n",
              "8432         0.0           0.0    BUD  2021      8        3  2021-08-19   \n",
              "23442        0.0           0.0    XOM  2021      8        3  2021-08-19   \n",
              "38454        0.0           0.0     BA  2021      8        3  2021-08-19   \n",
              "41375        0.0           0.0   CHTR  2021      8        3  2021-08-19   \n",
              "42950        0.0           0.0   SHOP  2021      8        3  2021-08-19   \n",
              "48633        0.0           0.0   NVDA  2021      8        3  2021-08-19   \n",
              "58898        0.0           0.0    NKE  2021      8        3  2021-08-19   \n",
              "\n",
              "       growth_1d  growth_3d  growth_7d  growth_30d  growth_90d  growth_365d  \\\n",
              "5376    0.966618   0.921385   0.933618    0.869700    1.138359     1.209024   \n",
              "8432    0.986842   0.967742   0.982479    0.861945    0.939786     1.194690   \n",
              "23442   0.970123   0.943243   0.920654    0.890649    0.975479     1.355354   \n",
              "38454   0.971461   0.928796   0.902324    0.898551    0.840013     0.920956   \n",
              "41375   0.996995   1.000677   1.021670    1.053275    1.260458     1.642566   \n",
              "42950   0.987026   0.987146   0.963249    1.004456    1.183901     3.263889   \n",
              "48633   1.038813   0.991429   0.992125    0.993782    1.261745     3.035264   \n",
              "58898   0.981676   0.961457   0.961959    1.031667    1.243456     1.897051   \n",
              "\n",
              "       future_growth_3d  volatility  \n",
              "5376                NaN   20.587218  \n",
              "8432                NaN   56.939970  \n",
              "23442               NaN   25.911847  \n",
              "38454               NaN  125.679848  \n",
              "41375               NaN  461.594859  \n",
              "42950               NaN  715.697538  \n",
              "48633               NaN   91.009245  \n",
              "58898               NaN   76.246016  "
            ]
          },
          "metadata": {},
          "execution_count": 6
        }
      ]
    },
    {
      "cell_type": "code",
      "metadata": {
        "colab": {
          "base_uri": "https://localhost:8080/",
          "height": 204
        },
        "id": "8BvSGF3p2UgV",
        "outputId": "1a864ca3-4b23-48c5-d758-067b7cf55525"
      },
      "source": [
        "# https://medium.com/analytics-vidhya/how-to-create-a-stock-correlation-matrix-in-python-4f32f8cb5b50\n",
        "df_pivot = stocks_prices.pivot('Date','Ticker','Close').reset_index()\n",
        "df_pivot.tail(5)"
      ],
      "execution_count": null,
      "outputs": [
        {
          "output_type": "execute_result",
          "data": {
            "text/html": [
              "<div>\n",
              "<style scoped>\n",
              "    .dataframe tbody tr th:only-of-type {\n",
              "        vertical-align: middle;\n",
              "    }\n",
              "\n",
              "    .dataframe tbody tr th {\n",
              "        vertical-align: top;\n",
              "    }\n",
              "\n",
              "    .dataframe thead th {\n",
              "        text-align: right;\n",
              "    }\n",
              "</style>\n",
              "<table border=\"1\" class=\"dataframe\">\n",
              "  <thead>\n",
              "    <tr style=\"text-align: right;\">\n",
              "      <th>Ticker</th>\n",
              "      <th>Date</th>\n",
              "      <th>BA</th>\n",
              "      <th>BUD</th>\n",
              "      <th>CHTR</th>\n",
              "      <th>NKE</th>\n",
              "      <th>NVDA</th>\n",
              "      <th>PTR</th>\n",
              "      <th>SHOP</th>\n",
              "      <th>XOM</th>\n",
              "    </tr>\n",
              "  </thead>\n",
              "  <tbody>\n",
              "    <tr>\n",
              "      <th>15008</th>\n",
              "      <td>2021-08-13</td>\n",
              "      <td>234.460007</td>\n",
              "      <td>61.970001</td>\n",
              "      <td>771.710022</td>\n",
              "      <td>171.690002</td>\n",
              "      <td>201.880005</td>\n",
              "      <td>43.220001</td>\n",
              "      <td>1498.000000</td>\n",
              "      <td>56.770000</td>\n",
              "    </tr>\n",
              "    <tr>\n",
              "      <th>15009</th>\n",
              "      <td>2021-08-16</td>\n",
              "      <td>229.059998</td>\n",
              "      <td>62.000000</td>\n",
              "      <td>782.580017</td>\n",
              "      <td>172.360001</td>\n",
              "      <td>199.500000</td>\n",
              "      <td>42.740002</td>\n",
              "      <td>1489.000000</td>\n",
              "      <td>55.939999</td>\n",
              "    </tr>\n",
              "    <tr>\n",
              "      <th>15010</th>\n",
              "      <td>2021-08-17</td>\n",
              "      <td>222.220001</td>\n",
              "      <td>61.209999</td>\n",
              "      <td>788.369995</td>\n",
              "      <td>170.660004</td>\n",
              "      <td>194.580002</td>\n",
              "      <td>40.910000</td>\n",
              "      <td>1481.869995</td>\n",
              "      <td>55.560001</td>\n",
              "    </tr>\n",
              "    <tr>\n",
              "      <th>15011</th>\n",
              "      <td>2021-08-18</td>\n",
              "      <td>219.000000</td>\n",
              "      <td>60.799999</td>\n",
              "      <td>785.469971</td>\n",
              "      <td>168.809998</td>\n",
              "      <td>190.399994</td>\n",
              "      <td>40.740002</td>\n",
              "      <td>1489.180054</td>\n",
              "      <td>54.389999</td>\n",
              "    </tr>\n",
              "    <tr>\n",
              "      <th>15012</th>\n",
              "      <td>2021-08-19</td>\n",
              "      <td>212.750000</td>\n",
              "      <td>60.000000</td>\n",
              "      <td>783.109985</td>\n",
              "      <td>165.716705</td>\n",
              "      <td>197.789993</td>\n",
              "      <td>39.380001</td>\n",
              "      <td>1469.859985</td>\n",
              "      <td>52.764999</td>\n",
              "    </tr>\n",
              "  </tbody>\n",
              "</table>\n",
              "</div>"
            ],
            "text/plain": [
              "Ticker        Date          BA        BUD        CHTR         NKE        NVDA  \\\n",
              "15008   2021-08-13  234.460007  61.970001  771.710022  171.690002  201.880005   \n",
              "15009   2021-08-16  229.059998  62.000000  782.580017  172.360001  199.500000   \n",
              "15010   2021-08-17  222.220001  61.209999  788.369995  170.660004  194.580002   \n",
              "15011   2021-08-18  219.000000  60.799999  785.469971  168.809998  190.399994   \n",
              "15012   2021-08-19  212.750000  60.000000  783.109985  165.716705  197.789993   \n",
              "\n",
              "Ticker        PTR         SHOP        XOM  \n",
              "15008   43.220001  1498.000000  56.770000  \n",
              "15009   42.740002  1489.000000  55.939999  \n",
              "15010   40.910000  1481.869995  55.560001  \n",
              "15011   40.740002  1489.180054  54.389999  \n",
              "15012   39.380001  1469.859985  52.764999  "
            ]
          },
          "metadata": {},
          "execution_count": 7
        }
      ]
    },
    {
      "cell_type": "markdown",
      "metadata": {
        "id": "k7_QyU592VDt"
      },
      "source": [
        "# 1. Correlation matrix\n",
        "Intuitive understanding of the portfolio optimisation"
      ]
    },
    {
      "cell_type": "code",
      "metadata": {
        "colab": {
          "base_uri": "https://localhost:8080/",
          "height": 328
        },
        "id": "gzSN0E9f2bN4",
        "outputId": "e8b6919c-106f-4fb3-bad7-8ea0674ac76d"
      },
      "source": [
        "# https://www.statisticshowto.com/probability-and-statistics/correlation-coefficient-formula/\n",
        "\n",
        "df_pivot.corr()"
      ],
      "execution_count": null,
      "outputs": [
        {
          "output_type": "execute_result",
          "data": {
            "text/html": [
              "<div>\n",
              "<style scoped>\n",
              "    .dataframe tbody tr th:only-of-type {\n",
              "        vertical-align: middle;\n",
              "    }\n",
              "\n",
              "    .dataframe tbody tr th {\n",
              "        vertical-align: top;\n",
              "    }\n",
              "\n",
              "    .dataframe thead th {\n",
              "        text-align: right;\n",
              "    }\n",
              "</style>\n",
              "<table border=\"1\" class=\"dataframe\">\n",
              "  <thead>\n",
              "    <tr style=\"text-align: right;\">\n",
              "      <th>Ticker</th>\n",
              "      <th>BA</th>\n",
              "      <th>BUD</th>\n",
              "      <th>CHTR</th>\n",
              "      <th>NKE</th>\n",
              "      <th>NVDA</th>\n",
              "      <th>PTR</th>\n",
              "      <th>SHOP</th>\n",
              "      <th>XOM</th>\n",
              "    </tr>\n",
              "    <tr>\n",
              "      <th>Ticker</th>\n",
              "      <th></th>\n",
              "      <th></th>\n",
              "      <th></th>\n",
              "      <th></th>\n",
              "      <th></th>\n",
              "      <th></th>\n",
              "      <th></th>\n",
              "      <th></th>\n",
              "    </tr>\n",
              "  </thead>\n",
              "  <tbody>\n",
              "    <tr>\n",
              "      <th>BA</th>\n",
              "      <td>1.000000</td>\n",
              "      <td>0.432324</td>\n",
              "      <td>0.685068</td>\n",
              "      <td>0.866076</td>\n",
              "      <td>0.654645</td>\n",
              "      <td>0.083098</td>\n",
              "      <td>0.049307</td>\n",
              "      <td>0.769178</td>\n",
              "    </tr>\n",
              "    <tr>\n",
              "      <th>BUD</th>\n",
              "      <td>0.432324</td>\n",
              "      <td>1.000000</td>\n",
              "      <td>0.203951</td>\n",
              "      <td>0.253294</td>\n",
              "      <td>0.015801</td>\n",
              "      <td>-0.176778</td>\n",
              "      <td>-0.732623</td>\n",
              "      <td>0.769374</td>\n",
              "    </tr>\n",
              "    <tr>\n",
              "      <th>CHTR</th>\n",
              "      <td>0.685068</td>\n",
              "      <td>0.203951</td>\n",
              "      <td>1.000000</td>\n",
              "      <td>0.964456</td>\n",
              "      <td>0.922147</td>\n",
              "      <td>-0.850259</td>\n",
              "      <td>0.934610</td>\n",
              "      <td>-0.106403</td>\n",
              "    </tr>\n",
              "    <tr>\n",
              "      <th>NKE</th>\n",
              "      <td>0.866076</td>\n",
              "      <td>0.253294</td>\n",
              "      <td>0.964456</td>\n",
              "      <td>1.000000</td>\n",
              "      <td>0.899672</td>\n",
              "      <td>0.028119</td>\n",
              "      <td>0.949403</td>\n",
              "      <td>0.674502</td>\n",
              "    </tr>\n",
              "    <tr>\n",
              "      <th>NVDA</th>\n",
              "      <td>0.654645</td>\n",
              "      <td>0.015801</td>\n",
              "      <td>0.922147</td>\n",
              "      <td>0.899672</td>\n",
              "      <td>1.000000</td>\n",
              "      <td>-0.152019</td>\n",
              "      <td>0.947974</td>\n",
              "      <td>0.246755</td>\n",
              "    </tr>\n",
              "    <tr>\n",
              "      <th>PTR</th>\n",
              "      <td>0.083098</td>\n",
              "      <td>-0.176778</td>\n",
              "      <td>-0.850259</td>\n",
              "      <td>0.028119</td>\n",
              "      <td>-0.152019</td>\n",
              "      <td>1.000000</td>\n",
              "      <td>-0.732609</td>\n",
              "      <td>0.743253</td>\n",
              "    </tr>\n",
              "    <tr>\n",
              "      <th>SHOP</th>\n",
              "      <td>0.049307</td>\n",
              "      <td>-0.732623</td>\n",
              "      <td>0.934610</td>\n",
              "      <td>0.949403</td>\n",
              "      <td>0.947974</td>\n",
              "      <td>-0.732609</td>\n",
              "      <td>1.000000</td>\n",
              "      <td>-0.644594</td>\n",
              "    </tr>\n",
              "    <tr>\n",
              "      <th>XOM</th>\n",
              "      <td>0.769178</td>\n",
              "      <td>0.769374</td>\n",
              "      <td>-0.106403</td>\n",
              "      <td>0.674502</td>\n",
              "      <td>0.246755</td>\n",
              "      <td>0.743253</td>\n",
              "      <td>-0.644594</td>\n",
              "      <td>1.000000</td>\n",
              "    </tr>\n",
              "  </tbody>\n",
              "</table>\n",
              "</div>"
            ],
            "text/plain": [
              "Ticker        BA       BUD      CHTR       NKE      NVDA       PTR      SHOP  \\\n",
              "Ticker                                                                         \n",
              "BA      1.000000  0.432324  0.685068  0.866076  0.654645  0.083098  0.049307   \n",
              "BUD     0.432324  1.000000  0.203951  0.253294  0.015801 -0.176778 -0.732623   \n",
              "CHTR    0.685068  0.203951  1.000000  0.964456  0.922147 -0.850259  0.934610   \n",
              "NKE     0.866076  0.253294  0.964456  1.000000  0.899672  0.028119  0.949403   \n",
              "NVDA    0.654645  0.015801  0.922147  0.899672  1.000000 -0.152019  0.947974   \n",
              "PTR     0.083098 -0.176778 -0.850259  0.028119 -0.152019  1.000000 -0.732609   \n",
              "SHOP    0.049307 -0.732623  0.934610  0.949403  0.947974 -0.732609  1.000000   \n",
              "XOM     0.769178  0.769374 -0.106403  0.674502  0.246755  0.743253 -0.644594   \n",
              "\n",
              "Ticker       XOM  \n",
              "Ticker            \n",
              "BA      0.769178  \n",
              "BUD     0.769374  \n",
              "CHTR   -0.106403  \n",
              "NKE     0.674502  \n",
              "NVDA    0.246755  \n",
              "PTR     0.743253  \n",
              "SHOP   -0.644594  \n",
              "XOM     1.000000  "
            ]
          },
          "metadata": {},
          "execution_count": 8
        }
      ]
    },
    {
      "cell_type": "code",
      "metadata": {
        "colab": {
          "base_uri": "https://localhost:8080/",
          "height": 334
        },
        "id": "IV9vnM5a2cln",
        "outputId": "49aa3908-1025-43e2-b1b8-c89399e1de2e"
      },
      "source": [
        "# https://seaborn.pydata.org/generated/seaborn.heatmap.html\n",
        "\n",
        "corr = df_pivot.corr()\n",
        "mask = np.zeros_like(corr)\n",
        "mask[np.triu_indices_from(mask)] = True\n",
        "with sns.axes_style(\"white\"):\n",
        "    f, ax = plt.subplots(figsize=(7, 5))\n",
        "    ax = sns.heatmap(corr, mask=mask, vmax=.3, square=True, annot=True, cmap='RdYlGn')\n"
      ],
      "execution_count": null,
      "outputs": [
        {
          "output_type": "display_data",
          "data": {
            "image/png": "[encoded data removed]",
            "text/plain": [
              "<Figure size 504x360 with 2 Axes>"
            ]
          },
          "metadata": {}
        }
      ]
    },
    {
      "cell_type": "markdown",
      "metadata": {
        "id": "_-YpSdZXZvgs"
      },
      "source": [
        "# 2. PyPortfolioOpt : min volatility, max Sharpe, and min cVAR portfolios\n",
        "Three types of 'optimal' portfolios  "
      ]
    },
    {
      "cell_type": "code",
      "metadata": {
        "id": "_jaQZfnAZUlD",
        "colab": {
          "base_uri": "https://localhost:8080/"
        },
        "outputId": "93466443-62d9-475d-d0cf-344bf356d68f"
      },
      "source": [
        "# User guide: https://pyportfolioopt.readthedocs.io/en/latest/UserGuide.html\n",
        "# https://github.com/robertmartin8/PyPortfolioOpt\n",
        "\n",
        "!pip install PyPortfolioOpt\n",
        "\n",
        "import pypfopt\n",
        "print(f'\\n Library version: {pypfopt.__version__}')"
      ],
      "execution_count": null,
      "outputs": [
        {
          "output_type": "stream",
          "text": [
            "Collecting PyPortfolioOpt\n",
            "  Downloading PyPortfolioOpt-1.4.2-py3-none-any.whl (60 kB)\n",
            "\u001b[?25l\r\u001b[K     |█████▍                          | 10 kB 18.4 MB/s eta 0:00:01\r\u001b[K     |██████████▉                     | 20 kB 9.8 MB/s eta 0:00:01\r\u001b[K     |████████████████▎               | 30 kB 8.1 MB/s eta 0:00:01\r\u001b[K     |█████████████████████▋          | 40 kB 7.5 MB/s eta 0:00:01\r\u001b[K     |███████████████████████████     | 51 kB 4.1 MB/s eta 0:00:01\r\u001b[K     |████████████████████████████████| 60 kB 2.8 MB/s \n",
            "\u001b[?25hRequirement already satisfied: numpy<2.0,>=1.12 in /usr/local/lib/python3.7/dist-packages (from PyPortfolioOpt) (1.19.5)\n",
            "Requirement already satisfied: pandas>=0.19 in /usr/local/lib/python3.7/dist-packages (from PyPortfolioOpt) (1.1.5)\n",
            "Collecting cvxpy<2.0.0,>=1.1.10\n",
            "  Downloading cvxpy-1.1.15-cp37-cp37m-manylinux_2_24_x86_64.whl (2.7 MB)\n",
            "\u001b[K     |████████████████████████████████| 2.7 MB 8.7 MB/s \n",
            "\u001b[?25hRequirement already satisfied: scipy<2.0,>=1.3 in /usr/local/lib/python3.7/dist-packages (from PyPortfolioOpt) (1.4.1)\n",
            "Requirement already satisfied: ecos>=2 in /usr/local/lib/python3.7/dist-packages (from cvxpy<2.0.0,>=1.1.10->PyPortfolioOpt) (2.0.7.post1)\n",
            "Requirement already satisfied: scs>=1.1.6 in /usr/local/lib/python3.7/dist-packages (from cvxpy<2.0.0,>=1.1.10->PyPortfolioOpt) (2.1.4)\n",
            "Requirement already satisfied: osqp>=0.4.1 in /usr/local/lib/python3.7/dist-packages (from cvxpy<2.0.0,>=1.1.10->PyPortfolioOpt) (0.6.2.post0)\n",
            "Requirement already satisfied: qdldl in /usr/local/lib/python3.7/dist-packages (from osqp>=0.4.1->cvxpy<2.0.0,>=1.1.10->PyPortfolioOpt) (0.1.5.post0)\n",
            "Requirement already satisfied: pytz>=2017.2 in /usr/local/lib/python3.7/dist-packages (from pandas>=0.19->PyPortfolioOpt) (2018.9)\n",
            "Requirement already satisfied: python-dateutil>=2.7.3 in /usr/local/lib/python3.7/dist-packages (from pandas>=0.19->PyPortfolioOpt) (2.8.2)\n",
            "Requirement already satisfied: six>=1.5 in /usr/local/lib/python3.7/dist-packages (from python-dateutil>=2.7.3->pandas>=0.19->PyPortfolioOpt) (1.15.0)\n",
            "Installing collected packages: cvxpy, PyPortfolioOpt\n",
            "  Attempting uninstall: cvxpy\n",
            "    Found existing installation: cvxpy 1.0.31\n",
            "    Uninstalling cvxpy-1.0.31:\n",
            "      Successfully uninstalled cvxpy-1.0.31\n",
            "Successfully installed PyPortfolioOpt-1.4.2 cvxpy-1.1.15\n",
            "\n",
            " Library version: 1.4.2\n"
          ],
          "name": "stdout"
        }
      ]
    },
    {
      "cell_type": "code",
      "metadata": {
        "id": "oHyolkwV2_Ji"
      },
      "source": [
        "# https://github.com/robertmartin8/PyPortfolioOpt/blob/master/cookbook/2-Mean-Variance-Optimisation.ipynb\n",
        "\n",
        "from pypfopt import risk_models\n",
        "from pypfopt import plotting\n",
        "\n",
        "from pypfopt import expected_returns\n",
        "from pypfopt import EfficientFrontier"
      ],
      "execution_count": null,
      "outputs": []
    },
    {
      "cell_type": "code",
      "metadata": {
        "colab": {
          "base_uri": "https://localhost:8080/",
          "height": 1000
        },
        "id": "vh9hZJcJ3xac",
        "outputId": "e5d42359-376f-4b1d-ffb9-91e6007aeee2"
      },
      "source": [
        "# json: for pretty print of a dictionary: https://stackoverflow.com/questions/44689546/how-to-print-out-a-dictionary-nicely-in-python/44689627\n",
        "import json\n",
        "\n",
        "mu = expected_returns.capm_return(df_pivot.set_index('Date'))\n",
        "# Other options for the returns values: expected_returns.ema_historical_return(df_pivot.set_index('Date'))\n",
        "# Other options for the returns values: expected_returns.mean_historical_return(df_pivot.set_index('Date'))\n",
        "print(f'Expected returns for each stock: {mu} \\n')\n",
        "\n",
        "S = risk_models.CovarianceShrinkage(df_pivot.set_index('Date')).ledoit_wolf()\n",
        "\n",
        "# Weights between 0 and 1 - we don't allow shorting\n",
        "ef = EfficientFrontier(mu, S, weight_bounds=(0, 1))\n",
        "ef.min_volatility()\n",
        "weights_min_volatility = ef.clean_weights()\n",
        "\n",
        "print(f'Portfolio weights for min volatility optimisation (lowest level of risk): {json.dumps(weights_min_volatility, indent=4, sort_keys=True)} \\n')\n",
        "print(f'Portfolio performance: {ef.portfolio_performance(verbose=True, risk_free_rate=0.01305)} \\n')\n",
        "# Risk-free rate : 10Y TBonds rate on 21-Jul-2021 https://www.cnbc.com/quotes/US10Y\n",
        "\n",
        "pd.Series(weights_min_volatility).plot.barh(title = 'Optimal Portfolio Weights (min volatility) by PyPortfolioOpt');\n",
        "\n",
        "ef.max_sharpe()\n",
        "weights_max_sharpe = ef.clean_weights()\n",
        "\n",
        "\n",
        "print(f'Portfolio weights for max Sharpe optimisation (highest return-per-risk): {json.dumps(weights_max_sharpe, indent=4, sort_keys=True)} \\n')\n",
        "print(f'Portfolio performance: {ef.portfolio_performance(verbose=True, risk_free_rate=0.01305)} \\n')\n"
      ],
      "execution_count": null,
      "outputs": [
        {
          "output_type": "stream",
          "text": [
            "Expected returns for each stock: Ticker\n",
            "BA      0.213434\n",
            "BUD     0.139353\n",
            "CHTR    0.127584\n",
            "NKE     0.197153\n",
            "NVDA    0.393164\n",
            "PTR     0.219011\n",
            "SHOP    0.289967\n",
            "XOM     0.129002\n",
            "Name: mkt, dtype: float64 \n",
            "\n",
            "Portfolio weights for min volatility optimisation (lowest level of risk): {\n",
            "    \"BA\": 0.0,\n",
            "    \"BUD\": 0.37202,\n",
            "    \"CHTR\": 0.35686,\n",
            "    \"NKE\": 0.03076,\n",
            "    \"NVDA\": 0.0,\n",
            "    \"PTR\": 0.04408,\n",
            "    \"SHOP\": 0.14438,\n",
            "    \"XOM\": 0.0519\n",
            "} \n",
            "\n",
            "Expected annual return: 16.2%\n",
            "Annual volatility: 8.9%\n",
            "Sharpe Ratio: 1.67\n",
            "Portfolio performance: (0.16165041366539995, 0.08897483692120163, 1.670139769932978) \n",
            "\n",
            "Portfolio weights for max Sharpe optimisation (highest return-per-risk): {\n",
            "    \"BA\": 0.01337,\n",
            "    \"BUD\": 0.23976,\n",
            "    \"CHTR\": 0.15556,\n",
            "    \"NKE\": 0.04143,\n",
            "    \"NVDA\": 0.07875,\n",
            "    \"PTR\": 0.11127,\n",
            "    \"SHOP\": 0.35987,\n",
            "    \"XOM\": 0.0\n",
            "} \n",
            "\n",
            "Expected annual return: 22.4%\n",
            "Annual volatility: 10.7%\n",
            "Sharpe Ratio: 1.91\n",
            "Portfolio performance: (0.22395840014926235, 0.10698305673708648, 1.906455156263624) \n",
            "\n"
          ],
          "name": "stdout"
        },
        {
          "output_type": "stream",
          "text": [
            "/usr/local/lib/python3.7/dist-packages/pypfopt/efficient_frontier/efficient_frontier.py:412: UserWarning: The risk_free_rate provided to portfolio_performance is different to the one used by max_sharpe. Using the previous value.\n",
            "  UserWarning,\n"
          ],
          "name": "stderr"
        },
        {
          "output_type": "display_data",
          "data": {
            "image/png": "[encoded data removed]",
            "text/plain": [
              "<Figure size 432x288 with 1 Axes>"
            ]
          },
          "metadata": {
            "needs_background": "light"
          }
        }
      ]
    },
    {
      "cell_type": "code",
      "metadata": {
        "colab": {
          "base_uri": "https://localhost:8080/"
        },
        "id": "1CPs2EbQ6QTZ",
        "outputId": "55d1fc5e-36d2-48c5-b696-a7c0e4993e87"
      },
      "source": [
        "ef = EfficientFrontier(mu, S)\n",
        "ef.max_sharpe()\n",
        "weight_arr = ef.weights\n",
        "ef.portfolio_performance(verbose=True);"
      ],
      "execution_count": null,
      "outputs": [
        {
          "output_type": "stream",
          "text": [
            "Expected annual return: 22.4%\n",
            "Annual volatility: 10.7%\n",
            "Sharpe Ratio: 1.91\n"
          ],
          "name": "stdout"
        }
      ]
    },
    {
      "cell_type": "code",
      "metadata": {
        "colab": {
          "base_uri": "https://localhost:8080/",
          "height": 235
        },
        "id": "QHNoLUBh5upu",
        "outputId": "bb555a1f-c320-4a72-cb68-acc5937f705b"
      },
      "source": [
        "returns = expected_returns.returns_from_prices(df_pivot.set_index('Date')).dropna()\n",
        "returns.head()"
      ],
      "execution_count": null,
      "outputs": [
        {
          "output_type": "execute_result",
          "data": {
            "text/html": [
              "<div>\n",
              "<style scoped>\n",
              "    .dataframe tbody tr th:only-of-type {\n",
              "        vertical-align: middle;\n",
              "    }\n",
              "\n",
              "    .dataframe tbody tr th {\n",
              "        vertical-align: top;\n",
              "    }\n",
              "\n",
              "    .dataframe thead th {\n",
              "        text-align: right;\n",
              "    }\n",
              "</style>\n",
              "<table border=\"1\" class=\"dataframe\">\n",
              "  <thead>\n",
              "    <tr style=\"text-align: right;\">\n",
              "      <th>Ticker</th>\n",
              "      <th>BA</th>\n",
              "      <th>BUD</th>\n",
              "      <th>CHTR</th>\n",
              "      <th>NKE</th>\n",
              "      <th>NVDA</th>\n",
              "      <th>PTR</th>\n",
              "      <th>SHOP</th>\n",
              "      <th>XOM</th>\n",
              "    </tr>\n",
              "    <tr>\n",
              "      <th>Date</th>\n",
              "      <th></th>\n",
              "      <th></th>\n",
              "      <th></th>\n",
              "      <th></th>\n",
              "      <th></th>\n",
              "      <th></th>\n",
              "      <th></th>\n",
              "      <th></th>\n",
              "    </tr>\n",
              "  </thead>\n",
              "  <tbody>\n",
              "    <tr>\n",
              "      <th>2015-05-21</th>\n",
              "      <td>0.006352</td>\n",
              "      <td>0.004133</td>\n",
              "      <td>0.009607</td>\n",
              "      <td>-0.002007</td>\n",
              "      <td>-0.007130</td>\n",
              "      <td>-0.008265</td>\n",
              "      <td>0.510588</td>\n",
              "      <td>0.000918</td>\n",
              "    </tr>\n",
              "    <tr>\n",
              "      <th>2015-05-22</th>\n",
              "      <td>-0.017238</td>\n",
              "      <td>-0.011056</td>\n",
              "      <td>-0.018584</td>\n",
              "      <td>0.000287</td>\n",
              "      <td>-0.001436</td>\n",
              "      <td>0.019446</td>\n",
              "      <td>0.102414</td>\n",
              "      <td>-0.007912</td>\n",
              "    </tr>\n",
              "    <tr>\n",
              "      <th>2015-05-26</th>\n",
              "      <td>-0.013880</td>\n",
              "      <td>-0.020238</td>\n",
              "      <td>0.025381</td>\n",
              "      <td>-0.009671</td>\n",
              "      <td>-0.006232</td>\n",
              "      <td>-0.011381</td>\n",
              "      <td>0.047333</td>\n",
              "      <td>-0.013523</td>\n",
              "    </tr>\n",
              "    <tr>\n",
              "      <th>2015-05-27</th>\n",
              "      <td>0.001401</td>\n",
              "      <td>0.015659</td>\n",
              "      <td>-0.008510</td>\n",
              "      <td>-0.005608</td>\n",
              "      <td>0.053546</td>\n",
              "      <td>0.004297</td>\n",
              "      <td>-0.072513</td>\n",
              "      <td>-0.002812</td>\n",
              "    </tr>\n",
              "    <tr>\n",
              "      <th>2015-05-28</th>\n",
              "      <td>-0.004685</td>\n",
              "      <td>0.003608</td>\n",
              "      <td>-0.010603</td>\n",
              "      <td>-0.002535</td>\n",
              "      <td>0.013736</td>\n",
              "      <td>-0.031886</td>\n",
              "      <td>-0.001818</td>\n",
              "      <td>0.000000</td>\n",
              "    </tr>\n",
              "  </tbody>\n",
              "</table>\n",
              "</div>"
            ],
            "text/plain": [
              "Ticker            BA       BUD      CHTR       NKE      NVDA       PTR  \\\n",
              "Date                                                                     \n",
              "2015-05-21  0.006352  0.004133  0.009607 -0.002007 -0.007130 -0.008265   \n",
              "2015-05-22 -0.017238 -0.011056 -0.018584  0.000287 -0.001436  0.019446   \n",
              "2015-05-26 -0.013880 -0.020238  0.025381 -0.009671 -0.006232 -0.011381   \n",
              "2015-05-27  0.001401  0.015659 -0.008510 -0.005608  0.053546  0.004297   \n",
              "2015-05-28 -0.004685  0.003608 -0.010603 -0.002535  0.013736 -0.031886   \n",
              "\n",
              "Ticker          SHOP       XOM  \n",
              "Date                            \n",
              "2015-05-21  0.510588  0.000918  \n",
              "2015-05-22  0.102414 -0.007912  \n",
              "2015-05-26  0.047333 -0.013523  \n",
              "2015-05-27 -0.072513 -0.002812  \n",
              "2015-05-28 -0.001818  0.000000  "
            ]
          },
          "metadata": {},
          "execution_count": 14
        }
      ]
    },
    {
      "cell_type": "code",
      "metadata": {
        "colab": {
          "base_uri": "https://localhost:8080/",
          "height": 265
        },
        "id": "GybQvtUv6VvD",
        "outputId": "e6fb8937-ce56-4945-e50a-25d704c32957"
      },
      "source": [
        "# Compute CVaR\n",
        "portfolio_rets = (returns * weight_arr).sum(axis=1)\n",
        "portfolio_rets.hist(bins=50);"
      ],
      "execution_count": null,
      "outputs": [
        {
          "output_type": "display_data",
          "data": {
            "image/png": "[encoded data removed]",
            "text/plain": [
              "<Figure size 432x288 with 1 Axes>"
            ]
          },
          "metadata": {
            "needs_background": "light"
          }
        }
      ]
    },
    {
      "cell_type": "code",
      "metadata": {
        "colab": {
          "base_uri": "https://localhost:8080/"
        },
        "id": "AugCl0qI6azT",
        "outputId": "1fd0246d-4595-4b12-f7c8-7a616901b102"
      },
      "source": [
        "# VaR\n",
        "var = portfolio_rets.quantile(0.05)\n",
        "cvar = portfolio_rets[portfolio_rets <= var].mean()\n",
        "print(\"VaR: {:.2f}%\".format(100*var))\n",
        "print(\"CVaR: {:.2f}%\".format(100*cvar))"
      ],
      "execution_count": null,
      "outputs": [
        {
          "output_type": "stream",
          "text": [
            "VaR: -2.56%\n",
            "CVaR: -4.01%\n"
          ],
          "name": "stdout"
        }
      ]
    },
    {
      "cell_type": "code",
      "metadata": {
        "colab": {
          "base_uri": "https://localhost:8080/"
        },
        "id": "YKvqL5oY6hID",
        "outputId": "2468e0ad-03c4-464d-8ac4-34acc43bfbfc"
      },
      "source": [
        "from pypfopt import EfficientCVaR\n",
        "\n",
        "ec = EfficientCVaR(mu, returns)\n",
        "ec.min_cvar()\n",
        "ec.portfolio_performance(verbose=True);"
      ],
      "execution_count": null,
      "outputs": [
        {
          "output_type": "stream",
          "text": [
            "Expected annual return: 15.8%\n",
            "Conditional Value at Risk: 2.99%\n"
          ],
          "name": "stdout"
        }
      ]
    },
    {
      "cell_type": "markdown",
      "metadata": {
        "id": "Io5NT_B8NzVP"
      },
      "source": [
        "# 3. PyPortfolioOpt : Efficient Frontier\n",
        "Building a convex efficient frontier, which explains the risk-return trade-off"
      ]
    },
    {
      "cell_type": "code",
      "metadata": {
        "colab": {
          "base_uri": "https://localhost:8080/"
        },
        "id": "tAndUAd14RgV",
        "outputId": "69f814bb-12f2-46dc-e0be-3f32c55df487"
      },
      "source": [
        "from pypfopt import CLA, plotting\n",
        "\n",
        "cla = CLA(mu, S)\n",
        "cla.max_sharpe()\n",
        "cla.portfolio_performance(verbose=True, risk_free_rate=0.01305);\n"
      ],
      "execution_count": null,
      "outputs": [
        {
          "output_type": "stream",
          "text": [
            "Expected annual return: 21.6%\n",
            "Annual volatility: 10.3%\n",
            "Sharpe Ratio: 1.97\n"
          ],
          "name": "stdout"
        }
      ]
    },
    {
      "cell_type": "code",
      "metadata": {
        "colab": {
          "base_uri": "https://localhost:8080/",
          "height": 297
        },
        "id": "LPEWoodw4Z6d",
        "outputId": "f273b54b-8285-43ac-af18-b00d92985852"
      },
      "source": [
        "ax = plotting.plot_efficient_frontier(cla, showfig=False)\n"
      ],
      "execution_count": null,
      "outputs": [
        {
          "output_type": "display_data",
          "data": {
            "image/png": "[encoded data removed]",
            "text/plain": [
              "<Figure size 432x288 with 1 Axes>"
            ]
          },
          "metadata": {
            "needs_background": "light"
          }
        }
      ]
    },
    {
      "cell_type": "code",
      "metadata": {
        "colab": {
          "base_uri": "https://localhost:8080/"
        },
        "id": "HMvY94IB5XrV",
        "outputId": "b75aae7c-f1dd-432b-9148-2caf364e69fe"
      },
      "source": [
        "n_samples = 10000\n",
        "w = np.random.dirichlet(np.ones(len(mu)), n_samples)\n",
        "rets = w.dot(mu)\n",
        "stds = np.sqrt((w.T * (S @ w.T)).sum(axis=0))\n",
        "sharpes = rets / stds\n",
        "\n",
        "print(\"Sample portfolio returns:\", rets)\n",
        "print(\"Sample portfolio volatilities:\", stds)"
      ],
      "execution_count": null,
      "outputs": [
        {
          "output_type": "stream",
          "text": [
            "Sample portfolio returns: [0.22085296 0.21243112 0.15621343 ... 0.19618622 0.18209733 0.25292345]\n",
            "Sample portfolio volatilities: 0       0.137026\n",
            "1       0.133920\n",
            "2       0.113982\n",
            "3       0.151277\n",
            "4       0.126129\n",
            "          ...   \n",
            "9995    0.176633\n",
            "9996    0.160378\n",
            "9997    0.183129\n",
            "9998    0.133186\n",
            "9999    0.178201\n",
            "Length: 10000, dtype: float64\n"
          ],
          "name": "stdout"
        }
      ]
    },
    {
      "cell_type": "code",
      "metadata": {
        "colab": {
          "base_uri": "https://localhost:8080/",
          "height": 297
        },
        "id": "UqyDC_jl5adE",
        "outputId": "e07816bc-8b22-424b-dce7-1651d20ed6bb"
      },
      "source": [
        "# Plot efficient frontier with Monte Carlo sim\n",
        "ef = EfficientFrontier(mu, S)\n",
        "\n",
        "fig, ax = plt.subplots()\n",
        "plotting.plot_efficient_frontier(ef, ax=ax, show_assets=False)\n",
        "\n",
        "# Find and plot the tangency portfolio\n",
        "ef.max_sharpe()\n",
        "ret_tangent, std_tangent, _ = ef.portfolio_performance()\n",
        "ax.scatter(std_tangent, ret_tangent, marker=\"*\", s=100, c=\"r\", label=\"Max Sharpe\")\n",
        "\n",
        "# Plot random portfolios\n",
        "ax.scatter(stds, rets, marker=\".\", c=sharpes, cmap=\"viridis_r\")\n",
        "\n",
        "# Format\n",
        "ax.set_title(\"PyPortfolioOpt: Efficient Frontier with random portfolios\")\n",
        "ax.legend()\n",
        "plt.tight_layout()\n",
        "plt.show()"
      ],
      "execution_count": null,
      "outputs": [
        {
          "output_type": "display_data",
          "data": {
            "image/png": "[encoded data removed]",
            "text/plain": [
              "<Figure size 432x288 with 1 Axes>"
            ]
          },
          "metadata": {
            "needs_background": "light"
          }
        }
      ]
    },
    {
      "cell_type": "markdown",
      "metadata": {
        "id": "Lfiwhgp1Z2CE"
      },
      "source": [
        "# 4. PyPortfolioOpt : Discrete Allocation\n",
        "Oftentimes, you don't have enough money to replicate the exact 'optimal' weights. So you need to find the closest possible portfolio with undivided amount of stocks "
      ]
    },
    {
      "cell_type": "code",
      "metadata": {
        "colab": {
          "base_uri": "https://localhost:8080/"
        },
        "id": "GG6dEBDxN_PJ",
        "outputId": "42be468e-c2c1-414d-b247-93ece0f0a2c7"
      },
      "source": [
        "# last day prices\n",
        "df_pivot.set_index('Date').iloc[-1]"
      ],
      "execution_count": null,
      "outputs": [
        {
          "output_type": "execute_result",
          "data": {
            "text/plain": [
              "Ticker\n",
              "BA       212.750000\n",
              "BUD       60.000000\n",
              "CHTR     783.109985\n",
              "NKE      165.716705\n",
              "NVDA     197.789993\n",
              "PTR       39.380001\n",
              "SHOP    1469.859985\n",
              "XOM       52.764999\n",
              "Name: 2021-08-19, dtype: float64"
            ]
          },
          "metadata": {},
          "execution_count": 22
        }
      ]
    },
    {
      "cell_type": "code",
      "metadata": {
        "colab": {
          "base_uri": "https://localhost:8080/"
        },
        "id": "rJxsKcvm1_dN",
        "outputId": "c21a2b2c-4746-4863-c03c-564f3e12d3ec"
      },
      "source": [
        "print(f'Portfolio weights for max Sharpe optimisation (highest return-per-risk): {json.dumps(weights_max_sharpe, indent=4, sort_keys=True)} \\n')\n"
      ],
      "execution_count": null,
      "outputs": [
        {
          "output_type": "stream",
          "text": [
            "Portfolio weights for max Sharpe optimisation (highest return-per-risk): {\n",
            "    \"BA\": 0.01337,\n",
            "    \"BUD\": 0.23976,\n",
            "    \"CHTR\": 0.15556,\n",
            "    \"NKE\": 0.04143,\n",
            "    \"NVDA\": 0.07875,\n",
            "    \"PTR\": 0.11127,\n",
            "    \"SHOP\": 0.35987,\n",
            "    \"XOM\": 0.0\n",
            "} \n",
            "\n"
          ],
          "name": "stdout"
        }
      ]
    },
    {
      "cell_type": "code",
      "metadata": {
        "colab": {
          "base_uri": "https://localhost:8080/"
        },
        "id": "8ag8hnPj3EDH",
        "outputId": "951d7cac-a752-4e51-9bc8-b89a7aa0bff0"
      },
      "source": [
        "df_last_day = stocks_prices[filter_last_date]\n",
        "df_last_day['max_sharpe_weight']= df_last_day['Ticker'].apply(lambda x:weights_max_sharpe[x])"
      ],
      "execution_count": null,
      "outputs": [
        {
          "output_type": "stream",
          "text": [
            "/usr/local/lib/python3.7/dist-packages/ipykernel_launcher.py:2: SettingWithCopyWarning: \n",
            "A value is trying to be set on a copy of a slice from a DataFrame.\n",
            "Try using .loc[row_indexer,col_indexer] = value instead\n",
            "\n",
            "See the caveats in the documentation: https://pandas.pydata.org/pandas-docs/stable/user_guide/indexing.html#returning-a-view-versus-a-copy\n",
            "  \n"
          ],
          "name": "stderr"
        }
      ]
    },
    {
      "cell_type": "code",
      "metadata": {
        "colab": {
          "base_uri": "https://localhost:8080/"
        },
        "id": "Bn4Mua7w4lxh",
        "outputId": "21eaed50-06b0-4bd4-dabd-b9e140c91020"
      },
      "source": [
        "df_last_day['stock_investment_amount'] = INVESTMENT*df_last_day['max_sharpe_weight'] /df_last_day['Close']"
      ],
      "execution_count": null,
      "outputs": [
        {
          "output_type": "stream",
          "text": [
            "/usr/local/lib/python3.7/dist-packages/ipykernel_launcher.py:1: SettingWithCopyWarning: \n",
            "A value is trying to be set on a copy of a slice from a DataFrame.\n",
            "Try using .loc[row_indexer,col_indexer] = value instead\n",
            "\n",
            "See the caveats in the documentation: https://pandas.pydata.org/pandas-docs/stable/user_guide/indexing.html#returning-a-view-versus-a-copy\n",
            "  \"\"\"Entry point for launching an IPython kernel.\n"
          ],
          "name": "stderr"
        }
      ]
    },
    {
      "cell_type": "code",
      "metadata": {
        "colab": {
          "base_uri": "https://localhost:8080/",
          "height": 297
        },
        "id": "BxrctPdk4MNP",
        "outputId": "0c3807e7-5ced-43fc-b941-44110ed29e0c"
      },
      "source": [
        "df_last_day[['Close','Ticker','Date','max_sharpe_weight','stock_investment_amount']]"
      ],
      "execution_count": null,
      "outputs": [
        {
          "output_type": "execute_result",
          "data": {
            "text/html": [
              "<div>\n",
              "<style scoped>\n",
              "    .dataframe tbody tr th:only-of-type {\n",
              "        vertical-align: middle;\n",
              "    }\n",
              "\n",
              "    .dataframe tbody tr th {\n",
              "        vertical-align: top;\n",
              "    }\n",
              "\n",
              "    .dataframe thead th {\n",
              "        text-align: right;\n",
              "    }\n",
              "</style>\n",
              "<table border=\"1\" class=\"dataframe\">\n",
              "  <thead>\n",
              "    <tr style=\"text-align: right;\">\n",
              "      <th></th>\n",
              "      <th>Close</th>\n",
              "      <th>Ticker</th>\n",
              "      <th>Date</th>\n",
              "      <th>max_sharpe_weight</th>\n",
              "      <th>stock_investment_amount</th>\n",
              "    </tr>\n",
              "  </thead>\n",
              "  <tbody>\n",
              "    <tr>\n",
              "      <th>5376</th>\n",
              "      <td>39.380001</td>\n",
              "      <td>PTR</td>\n",
              "      <td>2021-08-19</td>\n",
              "      <td>0.11127</td>\n",
              "      <td>5.651092</td>\n",
              "    </tr>\n",
              "    <tr>\n",
              "      <th>8432</th>\n",
              "      <td>60.000000</td>\n",
              "      <td>BUD</td>\n",
              "      <td>2021-08-19</td>\n",
              "      <td>0.23976</td>\n",
              "      <td>7.992000</td>\n",
              "    </tr>\n",
              "    <tr>\n",
              "      <th>23442</th>\n",
              "      <td>52.764999</td>\n",
              "      <td>XOM</td>\n",
              "      <td>2021-08-19</td>\n",
              "      <td>0.00000</td>\n",
              "      <td>0.000000</td>\n",
              "    </tr>\n",
              "    <tr>\n",
              "      <th>38454</th>\n",
              "      <td>212.750000</td>\n",
              "      <td>BA</td>\n",
              "      <td>2021-08-19</td>\n",
              "      <td>0.01337</td>\n",
              "      <td>0.125687</td>\n",
              "    </tr>\n",
              "    <tr>\n",
              "      <th>41375</th>\n",
              "      <td>783.109985</td>\n",
              "      <td>CHTR</td>\n",
              "      <td>2021-08-19</td>\n",
              "      <td>0.15556</td>\n",
              "      <td>0.397288</td>\n",
              "    </tr>\n",
              "    <tr>\n",
              "      <th>42950</th>\n",
              "      <td>1469.859985</td>\n",
              "      <td>SHOP</td>\n",
              "      <td>2021-08-19</td>\n",
              "      <td>0.35987</td>\n",
              "      <td>0.489666</td>\n",
              "    </tr>\n",
              "    <tr>\n",
              "      <th>48633</th>\n",
              "      <td>197.789993</td>\n",
              "      <td>NVDA</td>\n",
              "      <td>2021-08-19</td>\n",
              "      <td>0.07875</td>\n",
              "      <td>0.796299</td>\n",
              "    </tr>\n",
              "    <tr>\n",
              "      <th>58898</th>\n",
              "      <td>165.716705</td>\n",
              "      <td>NKE</td>\n",
              "      <td>2021-08-19</td>\n",
              "      <td>0.04143</td>\n",
              "      <td>0.500010</td>\n",
              "    </tr>\n",
              "  </tbody>\n",
              "</table>\n",
              "</div>"
            ],
            "text/plain": [
              "             Close Ticker        Date  max_sharpe_weight  \\\n",
              "5376     39.380001    PTR  2021-08-19            0.11127   \n",
              "8432     60.000000    BUD  2021-08-19            0.23976   \n",
              "23442    52.764999    XOM  2021-08-19            0.00000   \n",
              "38454   212.750000     BA  2021-08-19            0.01337   \n",
              "41375   783.109985   CHTR  2021-08-19            0.15556   \n",
              "42950  1469.859985   SHOP  2021-08-19            0.35987   \n",
              "48633   197.789993   NVDA  2021-08-19            0.07875   \n",
              "58898   165.716705    NKE  2021-08-19            0.04143   \n",
              "\n",
              "       stock_investment_amount  \n",
              "5376                  5.651092  \n",
              "8432                  7.992000  \n",
              "23442                 0.000000  \n",
              "38454                 0.125687  \n",
              "41375                 0.397288  \n",
              "42950                 0.489666  \n",
              "48633                 0.796299  \n",
              "58898                 0.500010  "
            ]
          },
          "metadata": {},
          "execution_count": 26
        }
      ]
    },
    {
      "cell_type": "code",
      "metadata": {
        "id": "oUHi6tJvZ6MS",
        "colab": {
          "base_uri": "https://localhost:8080/"
        },
        "outputId": "6d60f651-0612-49ff-d0cd-1b6b3a085d26"
      },
      "source": [
        "from pypfopt import DiscreteAllocation\n",
        "\n",
        "latest_prices = df_pivot.set_index('Date').iloc[-1]  # prices as of the day you are allocating\n",
        "da = DiscreteAllocation(weights_max_sharpe, latest_prices, total_portfolio_value = INVESTMENT, short_ratio=0.0)\n",
        "alloc, leftover = da.lp_portfolio()\n",
        "print(f\"Discrete allocation for the initial investment ${INVESTMENT} performed with ${leftover:.2f} leftover\")\n",
        "alloc"
      ],
      "execution_count": null,
      "outputs": [
        {
          "output_type": "stream",
          "text": [
            "Discrete allocation for the initial investment $2000 performed with $137.10 leftover\n"
          ],
          "name": "stdout"
        },
        {
          "output_type": "execute_result",
          "data": {
            "text/plain": [
              "{'BUD': 8, 'CHTR': 1, 'NKE': 1, 'NVDA': 1, 'PTR': 6}"
            ]
          },
          "metadata": {},
          "execution_count": 27
        }
      ]
    }
  ]
}