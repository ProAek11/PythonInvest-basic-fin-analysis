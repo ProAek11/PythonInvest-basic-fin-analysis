{
 "cells": [
  {
   "cell_type": "code",
   "execution_count": 1,
   "metadata": {},
   "outputs": [],
   "source": [
    "# Autoreload to see the changes in the Python proj files: https://stackoverflow.com/questions/5364050/reloading-submodules-in-ipython\n",
    "%load_ext autoreload\n",
    "%autoreload 2"
   ]
  },
  {
   "cell_type": "markdown",
   "metadata": {},
   "source": [
    "# 0) IMPORTS"
   ]
  },
  {
   "cell_type": "code",
   "execution_count": 2,
   "metadata": {},
   "outputs": [],
   "source": [
    "import pandas as pd\n",
    "import numpy as np\n",
    "import sys\n",
    "import os"
   ]
  },
  {
   "cell_type": "code",
   "execution_count": 3,
   "metadata": {},
   "outputs": [
    {
     "name": "stdout",
     "output_type": "stream",
     "text": [
      "/home/realmistic\n"
     ]
    }
   ],
   "source": [
    "!pwd"
   ]
  },
  {
   "cell_type": "code",
   "execution_count": 4,
   "metadata": {},
   "outputs": [
    {
     "name": "stdout",
     "output_type": "stream",
     "text": [
      "/home/realmistic/PythonInvest-basic-fin-analysis/mlops_stocks_day_trading\n"
     ]
    }
   ],
   "source": [
    "# There is a problem with import in Jupiter notebook vs. the standard Python proj \n",
    "# https://stackoverflow.com/questions/4383571/importing-files-from-different-folder\n",
    "# https://github.com/microsoft/vscode-jupyter/issues/3605\n",
    "sys.path.append('/home/realmistic/PythonInvest-basic-fin-analysis/mlops_stocks_day_trading/')\n",
    "\n",
    "os.chdir ('//home/realmistic/PythonInvest-basic-fin-analysis/mlops_stocks_day_trading/')\n",
    "!pwd"
   ]
  },
  {
   "cell_type": "markdown",
   "metadata": {},
   "source": [
    "# 1) Test repo class (SqlLite implementation with local file)"
   ]
  },
  {
   "cell_type": "code",
   "execution_count": 6,
   "metadata": {},
   "outputs": [
    {
     "name": "stdout",
     "output_type": "stream",
     "text": [
      "['tickers.db']\n"
     ]
    },
    {
     "data": {
      "text/plain": [
       "<load_data_sqlite3.DataRepositorySqlLite at 0x7f3af5aa2c40>"
      ]
     },
     "execution_count": 6,
     "metadata": {},
     "output_type": "execute_result"
    }
   ],
   "source": [
    "import load_data_sqlite3\n",
    "# load by default tickers.tb\n",
    "repo = load_data_sqlite3.DataRepositorySqlLite()\n",
    "repo"
   ]
  },
  {
   "cell_type": "code",
   "execution_count": 7,
   "metadata": {},
   "outputs": [
    {
     "name": "stdout",
     "output_type": "stream",
     "text": [
      "[*********************100%***********************]  1 of 1 completed\n",
      "downloaded records (5, 7) with min_date 2022-06-27 00:00:00 and max_date 2022-07-01 00:00:00\n",
      "Successfully fetched GOOG for more 7\n"
     ]
    },
    {
     "name": "stderr",
     "output_type": "stream",
     "text": [
      "/home/realmistic/PythonInvest-basic-fin-analysis/mlops_stocks_day_trading/load_data_sqlite3.py:132: FutureWarning: The frame.append method is deprecated and will be removed from pandas in a future version. Use pandas.concat instead.\n",
      "  self.tickers_df = self.tickers_df.append(incremental_df, ignore_index=True)\n"
     ]
    }
   ],
   "source": [
    "repo.fetch_ticker_incremental(ticker='GOOG', period_days=7)"
   ]
  },
  {
   "cell_type": "code",
   "execution_count": 8,
   "metadata": {},
   "outputs": [
    {
     "data": {
      "text/html": [
       "<div>\n",
       "<style scoped>\n",
       "    .dataframe tbody tr th:only-of-type {\n",
       "        vertical-align: middle;\n",
       "    }\n",
       "\n",
       "    .dataframe tbody tr th {\n",
       "        vertical-align: top;\n",
       "    }\n",
       "\n",
       "    .dataframe thead th {\n",
       "        text-align: right;\n",
       "    }\n",
       "</style>\n",
       "<table border=\"1\" class=\"dataframe\">\n",
       "  <thead>\n",
       "    <tr style=\"text-align: right;\">\n",
       "      <th></th>\n",
       "      <th>Date</th>\n",
       "      <th>Ticker</th>\n",
       "      <th>Open</th>\n",
       "      <th>High</th>\n",
       "      <th>Low</th>\n",
       "      <th>Close</th>\n",
       "      <th>Adj Close</th>\n",
       "      <th>Volume</th>\n",
       "    </tr>\n",
       "  </thead>\n",
       "  <tbody>\n",
       "    <tr>\n",
       "      <th>0</th>\n",
       "      <td>2021-01-04</td>\n",
       "      <td>GOOG</td>\n",
       "      <td>87.876999</td>\n",
       "      <td>88.032501</td>\n",
       "      <td>85.392502</td>\n",
       "      <td>86.412003</td>\n",
       "      <td>86.412003</td>\n",
       "      <td>38038000</td>\n",
       "    </tr>\n",
       "    <tr>\n",
       "      <th>1</th>\n",
       "      <td>2021-01-05</td>\n",
       "      <td>GOOG</td>\n",
       "      <td>86.250000</td>\n",
       "      <td>87.383499</td>\n",
       "      <td>85.900749</td>\n",
       "      <td>87.045998</td>\n",
       "      <td>87.045998</td>\n",
       "      <td>22906000</td>\n",
       "    </tr>\n",
       "    <tr>\n",
       "      <th>2</th>\n",
       "      <td>2021-01-06</td>\n",
       "      <td>GOOG</td>\n",
       "      <td>85.131500</td>\n",
       "      <td>87.400002</td>\n",
       "      <td>84.949997</td>\n",
       "      <td>86.764503</td>\n",
       "      <td>86.764503</td>\n",
       "      <td>52042000</td>\n",
       "    </tr>\n",
       "    <tr>\n",
       "      <th>3</th>\n",
       "      <td>2021-01-07</td>\n",
       "      <td>GOOG</td>\n",
       "      <td>87.002998</td>\n",
       "      <td>89.419998</td>\n",
       "      <td>86.852501</td>\n",
       "      <td>89.362503</td>\n",
       "      <td>89.362503</td>\n",
       "      <td>45300000</td>\n",
       "    </tr>\n",
       "    <tr>\n",
       "      <th>4</th>\n",
       "      <td>2021-01-08</td>\n",
       "      <td>GOOG</td>\n",
       "      <td>89.399002</td>\n",
       "      <td>90.491997</td>\n",
       "      <td>88.676750</td>\n",
       "      <td>90.360497</td>\n",
       "      <td>90.360497</td>\n",
       "      <td>41012000</td>\n",
       "    </tr>\n",
       "    <tr>\n",
       "      <th>...</th>\n",
       "      <td>...</td>\n",
       "      <td>...</td>\n",
       "      <td>...</td>\n",
       "      <td>...</td>\n",
       "      <td>...</td>\n",
       "      <td>...</td>\n",
       "      <td>...</td>\n",
       "      <td>...</td>\n",
       "    </tr>\n",
       "    <tr>\n",
       "      <th>372</th>\n",
       "      <td>2022-06-27</td>\n",
       "      <td>GOOG</td>\n",
       "      <td>118.934998</td>\n",
       "      <td>119.250000</td>\n",
       "      <td>116.000748</td>\n",
       "      <td>116.622498</td>\n",
       "      <td>116.622498</td>\n",
       "      <td>32840000</td>\n",
       "    </tr>\n",
       "    <tr>\n",
       "      <th>373</th>\n",
       "      <td>2022-06-28</td>\n",
       "      <td>GOOG</td>\n",
       "      <td>116.350998</td>\n",
       "      <td>117.856499</td>\n",
       "      <td>112.444000</td>\n",
       "      <td>112.571503</td>\n",
       "      <td>112.571503</td>\n",
       "      <td>28232000</td>\n",
       "    </tr>\n",
       "    <tr>\n",
       "      <th>374</th>\n",
       "      <td>2022-06-29</td>\n",
       "      <td>GOOG</td>\n",
       "      <td>112.148499</td>\n",
       "      <td>113.664497</td>\n",
       "      <td>111.554001</td>\n",
       "      <td>112.256500</td>\n",
       "      <td>112.256500</td>\n",
       "      <td>18628000</td>\n",
       "    </tr>\n",
       "    <tr>\n",
       "      <th>375</th>\n",
       "      <td>2022-06-30</td>\n",
       "      <td>GOOG</td>\n",
       "      <td>110.499496</td>\n",
       "      <td>111.329803</td>\n",
       "      <td>107.309998</td>\n",
       "      <td>109.372498</td>\n",
       "      <td>109.372498</td>\n",
       "      <td>38046000</td>\n",
       "    </tr>\n",
       "    <tr>\n",
       "      <th>376</th>\n",
       "      <td>2022-07-01</td>\n",
       "      <td>GOOG</td>\n",
       "      <td>108.336998</td>\n",
       "      <td>109.806351</td>\n",
       "      <td>107.105003</td>\n",
       "      <td>109.081001</td>\n",
       "      <td>109.081001</td>\n",
       "      <td>31028000</td>\n",
       "    </tr>\n",
       "  </tbody>\n",
       "</table>\n",
       "<p>377 rows × 8 columns</p>\n",
       "</div>"
      ],
      "text/plain": [
       "          Date Ticker        Open        High         Low       Close  \\\n",
       "0   2021-01-04   GOOG   87.876999   88.032501   85.392502   86.412003   \n",
       "1   2021-01-05   GOOG   86.250000   87.383499   85.900749   87.045998   \n",
       "2   2021-01-06   GOOG   85.131500   87.400002   84.949997   86.764503   \n",
       "3   2021-01-07   GOOG   87.002998   89.419998   86.852501   89.362503   \n",
       "4   2021-01-08   GOOG   89.399002   90.491997   88.676750   90.360497   \n",
       "..         ...    ...         ...         ...         ...         ...   \n",
       "372 2022-06-27   GOOG  118.934998  119.250000  116.000748  116.622498   \n",
       "373 2022-06-28   GOOG  116.350998  117.856499  112.444000  112.571503   \n",
       "374 2022-06-29   GOOG  112.148499  113.664497  111.554001  112.256500   \n",
       "375 2022-06-30   GOOG  110.499496  111.329803  107.309998  109.372498   \n",
       "376 2022-07-01   GOOG  108.336998  109.806351  107.105003  109.081001   \n",
       "\n",
       "      Adj Close    Volume  \n",
       "0     86.412003  38038000  \n",
       "1     87.045998  22906000  \n",
       "2     86.764503  52042000  \n",
       "3     89.362503  45300000  \n",
       "4     90.360497  41012000  \n",
       "..          ...       ...  \n",
       "372  116.622498  32840000  \n",
       "373  112.571503  28232000  \n",
       "374  112.256500  18628000  \n",
       "375  109.372498  38046000  \n",
       "376  109.081001  31028000  \n",
       "\n",
       "[377 rows x 8 columns]"
      ]
     },
     "execution_count": 8,
     "metadata": {},
     "output_type": "execute_result"
    }
   ],
   "source": [
    "repo.tickers_df"
   ]
  },
  {
   "cell_type": "code",
   "execution_count": 9,
   "metadata": {},
   "outputs": [
    {
     "data": {
      "text/plain": [
       "['tickers.db']"
      ]
     },
     "execution_count": 9,
     "metadata": {},
     "output_type": "execute_result"
    }
   ],
   "source": [
    "repo.existing_db_files"
   ]
  },
  {
   "cell_type": "markdown",
   "metadata": {},
   "source": [
    "# 2) Manual implementation - connect to DB, API call saving data to Pandas, flush a df to an SQLLite file"
   ]
  },
  {
   "cell_type": "code",
   "execution_count": 15,
   "metadata": {},
   "outputs": [],
   "source": [
    "import sqlite3\n",
    "\n",
    "#Connecting to sqlite db\n",
    "conn = sqlite3.connect(\"data/tickers.db\")\n",
    "#Creating a cursor object using the cursor() method\n",
    "cursor = conn.cursor()"
   ]
  },
  {
   "cell_type": "code",
   "execution_count": 16,
   "metadata": {},
   "outputs": [
    {
     "name": "stdout",
     "output_type": "stream",
     "text": [
      "[('tickers',)]\n",
      "[('sqlite_autoindex_tickers_1',)]\n",
      "CREATE TABLE \"tickers\" (\n",
      "                \"Date\" TIMESTAMP,\n",
      "                \"Ticker\" TEXT,\n",
      "                \"Open\" REAL,\n",
      "                \"High\" REAL,\n",
      "                \"Low\" REAL,\n",
      "                \"Close\" REAL,\n",
      "                \"Adj Close\" REAL,\n",
      "                \"Volume\" INTEGER,\n",
      "                PRIMARY KEY (Date, Ticker)\n",
      "                )\n"
     ]
    }
   ],
   "source": [
    "# List of all tables\n",
    "cursor.execute(\"SELECT name FROM sqlite_master WHERE type = 'table';\")\n",
    "print(cursor.fetchall())\n",
    "\n",
    "# check if there is an index (Pandas flush to SQLLite doesn't define a Primary Key and Index - you need to redefine it manually)\n",
    "cursor.execute(\"SELECT name FROM sqlite_master WHERE type = 'index';\")\n",
    "print(cursor.fetchall())\n",
    "\n",
    "# Table schema \n",
    "cursor.execute(\"SELECT sql FROM sqlite_master WHERE name=?;\",['tickers'])\n",
    "rez = cursor.fetchall()[0][0]\n",
    "print(rez)\n",
    "\n",
    "# if you want to drop a table\n",
    "# cursor.execute('DROP TABLE tickers')"
   ]
  },
  {
   "cell_type": "code",
   "execution_count": 26,
   "metadata": {},
   "outputs": [
    {
     "data": {
      "text/html": [
       "<div>\n",
       "<style scoped>\n",
       "    .dataframe tbody tr th:only-of-type {\n",
       "        vertical-align: middle;\n",
       "    }\n",
       "\n",
       "    .dataframe tbody tr th {\n",
       "        vertical-align: top;\n",
       "    }\n",
       "\n",
       "    .dataframe thead th {\n",
       "        text-align: right;\n",
       "    }\n",
       "</style>\n",
       "<table border=\"1\" class=\"dataframe\">\n",
       "  <thead>\n",
       "    <tr style=\"text-align: right;\">\n",
       "      <th></th>\n",
       "      <th>Date</th>\n",
       "      <th>Ticker</th>\n",
       "      <th>Open</th>\n",
       "      <th>High</th>\n",
       "      <th>Low</th>\n",
       "      <th>Close</th>\n",
       "      <th>Adj Close</th>\n",
       "      <th>Volume</th>\n",
       "    </tr>\n",
       "  </thead>\n",
       "  <tbody>\n",
       "    <tr>\n",
       "      <th>0</th>\n",
       "      <td>2021-01-04 00:00:00</td>\n",
       "      <td>GOOG</td>\n",
       "      <td>87.876999</td>\n",
       "      <td>88.032501</td>\n",
       "      <td>85.392502</td>\n",
       "      <td>86.412003</td>\n",
       "      <td>86.412003</td>\n",
       "      <td>38038000</td>\n",
       "    </tr>\n",
       "    <tr>\n",
       "      <th>1</th>\n",
       "      <td>2021-01-05 00:00:00</td>\n",
       "      <td>GOOG</td>\n",
       "      <td>86.250000</td>\n",
       "      <td>87.383499</td>\n",
       "      <td>85.900749</td>\n",
       "      <td>87.045998</td>\n",
       "      <td>87.045998</td>\n",
       "      <td>22906000</td>\n",
       "    </tr>\n",
       "    <tr>\n",
       "      <th>2</th>\n",
       "      <td>2021-01-06 00:00:00</td>\n",
       "      <td>GOOG</td>\n",
       "      <td>85.131500</td>\n",
       "      <td>87.400002</td>\n",
       "      <td>84.949997</td>\n",
       "      <td>86.764503</td>\n",
       "      <td>86.764503</td>\n",
       "      <td>52042000</td>\n",
       "    </tr>\n",
       "    <tr>\n",
       "      <th>3</th>\n",
       "      <td>2021-01-07 00:00:00</td>\n",
       "      <td>GOOG</td>\n",
       "      <td>87.002998</td>\n",
       "      <td>89.419998</td>\n",
       "      <td>86.852501</td>\n",
       "      <td>89.362503</td>\n",
       "      <td>89.362503</td>\n",
       "      <td>45300000</td>\n",
       "    </tr>\n",
       "    <tr>\n",
       "      <th>4</th>\n",
       "      <td>2021-01-08 00:00:00</td>\n",
       "      <td>GOOG</td>\n",
       "      <td>89.399002</td>\n",
       "      <td>90.491997</td>\n",
       "      <td>88.676750</td>\n",
       "      <td>90.360497</td>\n",
       "      <td>90.360497</td>\n",
       "      <td>41012000</td>\n",
       "    </tr>\n",
       "    <tr>\n",
       "      <th>...</th>\n",
       "      <td>...</td>\n",
       "      <td>...</td>\n",
       "      <td>...</td>\n",
       "      <td>...</td>\n",
       "      <td>...</td>\n",
       "      <td>...</td>\n",
       "      <td>...</td>\n",
       "      <td>...</td>\n",
       "    </tr>\n",
       "    <tr>\n",
       "      <th>644</th>\n",
       "      <td>2022-01-25 00:00:00</td>\n",
       "      <td>None</td>\n",
       "      <td>128.435501</td>\n",
       "      <td>129.338501</td>\n",
       "      <td>126.377998</td>\n",
       "      <td>126.735497</td>\n",
       "      <td>126.735497</td>\n",
       "      <td>36008000</td>\n",
       "    </tr>\n",
       "    <tr>\n",
       "      <th>645</th>\n",
       "      <td>2022-01-26 00:00:00</td>\n",
       "      <td>None</td>\n",
       "      <td>130.592499</td>\n",
       "      <td>132.807495</td>\n",
       "      <td>127.153503</td>\n",
       "      <td>129.240005</td>\n",
       "      <td>129.240005</td>\n",
       "      <td>39630000</td>\n",
       "    </tr>\n",
       "    <tr>\n",
       "      <th>646</th>\n",
       "      <td>2022-01-27 00:00:00</td>\n",
       "      <td>None</td>\n",
       "      <td>131.360992</td>\n",
       "      <td>132.609955</td>\n",
       "      <td>128.945007</td>\n",
       "      <td>129.121002</td>\n",
       "      <td>129.121002</td>\n",
       "      <td>30248000</td>\n",
       "    </tr>\n",
       "    <tr>\n",
       "      <th>647</th>\n",
       "      <td>2022-01-28 00:00:00</td>\n",
       "      <td>None</td>\n",
       "      <td>130.000000</td>\n",
       "      <td>133.370499</td>\n",
       "      <td>128.694504</td>\n",
       "      <td>133.289505</td>\n",
       "      <td>133.289505</td>\n",
       "      <td>30518000</td>\n",
       "    </tr>\n",
       "    <tr>\n",
       "      <th>648</th>\n",
       "      <td>2022-01-31 00:00:00</td>\n",
       "      <td>None</td>\n",
       "      <td>134.197998</td>\n",
       "      <td>135.843506</td>\n",
       "      <td>132.274002</td>\n",
       "      <td>135.698502</td>\n",
       "      <td>135.698502</td>\n",
       "      <td>34056000</td>\n",
       "    </tr>\n",
       "  </tbody>\n",
       "</table>\n",
       "<p>649 rows × 8 columns</p>\n",
       "</div>"
      ],
      "text/plain": [
       "                    Date Ticker        Open        High         Low  \\\n",
       "0    2021-01-04 00:00:00   GOOG   87.876999   88.032501   85.392502   \n",
       "1    2021-01-05 00:00:00   GOOG   86.250000   87.383499   85.900749   \n",
       "2    2021-01-06 00:00:00   GOOG   85.131500   87.400002   84.949997   \n",
       "3    2021-01-07 00:00:00   GOOG   87.002998   89.419998   86.852501   \n",
       "4    2021-01-08 00:00:00   GOOG   89.399002   90.491997   88.676750   \n",
       "..                   ...    ...         ...         ...         ...   \n",
       "644  2022-01-25 00:00:00   None  128.435501  129.338501  126.377998   \n",
       "645  2022-01-26 00:00:00   None  130.592499  132.807495  127.153503   \n",
       "646  2022-01-27 00:00:00   None  131.360992  132.609955  128.945007   \n",
       "647  2022-01-28 00:00:00   None  130.000000  133.370499  128.694504   \n",
       "648  2022-01-31 00:00:00   None  134.197998  135.843506  132.274002   \n",
       "\n",
       "          Close   Adj Close    Volume  \n",
       "0     86.412003   86.412003  38038000  \n",
       "1     87.045998   87.045998  22906000  \n",
       "2     86.764503   86.764503  52042000  \n",
       "3     89.362503   89.362503  45300000  \n",
       "4     90.360497   90.360497  41012000  \n",
       "..          ...         ...       ...  \n",
       "644  126.735497  126.735497  36008000  \n",
       "645  129.240005  129.240005  39630000  \n",
       "646  129.121002  129.121002  30248000  \n",
       "647  133.289505  133.289505  30518000  \n",
       "648  135.698502  135.698502  34056000  \n",
       "\n",
       "[649 rows x 8 columns]"
      ]
     },
     "execution_count": 26,
     "metadata": {},
     "output_type": "execute_result"
    }
   ],
   "source": [
    "p2= pd.read_sql('select * from tickers', conn)\n",
    "p2"
   ]
  },
  {
   "cell_type": "code",
   "execution_count": 21,
   "metadata": {},
   "outputs": [
    {
     "name": "stdout",
     "output_type": "stream",
     "text": [
      "Period is 2021-01-02 00:00:00 to 2021-02-01 00:00:00\n"
     ]
    }
   ],
   "source": [
    "import datetime\n",
    "max_data_date = datetime.datetime.strptime(\"2021-01-01\",\"%Y-%m-%d\")\n",
    "\n",
    "period_days=30\n",
    "start_date = max_data_date + datetime.timedelta(days=1)\n",
    "end_date = max_data_date + datetime.timedelta(days=1+period_days)  \n",
    "\n",
    "print(f'Period is {start_date} to {end_date}')"
   ]
  },
  {
   "cell_type": "code",
   "execution_count": 22,
   "metadata": {},
   "outputs": [
    {
     "name": "stdout",
     "output_type": "stream",
     "text": [
      "[*********************100%***********************]  1 of 1 completed\n"
     ]
    }
   ],
   "source": [
    "import yfinance as yf\n",
    "ticker='GOOG'\n",
    "incremental_df = yf.download(ticker, start=start_date, end=end_date)"
   ]
  },
  {
   "cell_type": "code",
   "execution_count": 23,
   "metadata": {},
   "outputs": [],
   "source": [
    "# Define new field\n",
    "incremental_df['Ticker'] = ticker"
   ]
  },
  {
   "cell_type": "code",
   "execution_count": 24,
   "metadata": {},
   "outputs": [
    {
     "name": "stdout",
     "output_type": "stream",
     "text": [
      "[*********************100%***********************]  1 of 1 completed\n"
     ]
    },
    {
     "data": {
      "text/html": [
       "<div>\n",
       "<style scoped>\n",
       "    .dataframe tbody tr th:only-of-type {\n",
       "        vertical-align: middle;\n",
       "    }\n",
       "\n",
       "    .dataframe tbody tr th {\n",
       "        vertical-align: top;\n",
       "    }\n",
       "\n",
       "    .dataframe thead th {\n",
       "        text-align: right;\n",
       "    }\n",
       "</style>\n",
       "<table border=\"1\" class=\"dataframe\">\n",
       "  <thead>\n",
       "    <tr style=\"text-align: right;\">\n",
       "      <th></th>\n",
       "      <th>Open</th>\n",
       "      <th>High</th>\n",
       "      <th>Low</th>\n",
       "      <th>Close</th>\n",
       "      <th>Adj Close</th>\n",
       "      <th>Volume</th>\n",
       "    </tr>\n",
       "    <tr>\n",
       "      <th>Date</th>\n",
       "      <th></th>\n",
       "      <th></th>\n",
       "      <th></th>\n",
       "      <th></th>\n",
       "      <th></th>\n",
       "      <th></th>\n",
       "    </tr>\n",
       "  </thead>\n",
       "  <tbody>\n",
       "    <tr>\n",
       "      <th>2021-01-04</th>\n",
       "      <td>87.876999</td>\n",
       "      <td>88.032501</td>\n",
       "      <td>85.392502</td>\n",
       "      <td>86.412003</td>\n",
       "      <td>86.412003</td>\n",
       "      <td>38038000</td>\n",
       "    </tr>\n",
       "    <tr>\n",
       "      <th>2021-01-05</th>\n",
       "      <td>86.250000</td>\n",
       "      <td>87.383499</td>\n",
       "      <td>85.900749</td>\n",
       "      <td>87.045998</td>\n",
       "      <td>87.045998</td>\n",
       "      <td>22906000</td>\n",
       "    </tr>\n",
       "    <tr>\n",
       "      <th>2021-01-06</th>\n",
       "      <td>85.131500</td>\n",
       "      <td>87.400002</td>\n",
       "      <td>84.949997</td>\n",
       "      <td>86.764503</td>\n",
       "      <td>86.764503</td>\n",
       "      <td>52042000</td>\n",
       "    </tr>\n",
       "    <tr>\n",
       "      <th>2021-01-07</th>\n",
       "      <td>87.002998</td>\n",
       "      <td>89.419998</td>\n",
       "      <td>86.852501</td>\n",
       "      <td>89.362503</td>\n",
       "      <td>89.362503</td>\n",
       "      <td>45300000</td>\n",
       "    </tr>\n",
       "    <tr>\n",
       "      <th>2021-01-08</th>\n",
       "      <td>89.399002</td>\n",
       "      <td>90.491997</td>\n",
       "      <td>88.676750</td>\n",
       "      <td>90.360497</td>\n",
       "      <td>90.360497</td>\n",
       "      <td>41012000</td>\n",
       "    </tr>\n",
       "    <tr>\n",
       "      <th>...</th>\n",
       "      <td>...</td>\n",
       "      <td>...</td>\n",
       "      <td>...</td>\n",
       "      <td>...</td>\n",
       "      <td>...</td>\n",
       "      <td>...</td>\n",
       "    </tr>\n",
       "    <tr>\n",
       "      <th>2022-01-25</th>\n",
       "      <td>128.435501</td>\n",
       "      <td>129.338501</td>\n",
       "      <td>126.377998</td>\n",
       "      <td>126.735497</td>\n",
       "      <td>126.735497</td>\n",
       "      <td>36008000</td>\n",
       "    </tr>\n",
       "    <tr>\n",
       "      <th>2022-01-26</th>\n",
       "      <td>130.592499</td>\n",
       "      <td>132.807495</td>\n",
       "      <td>127.153503</td>\n",
       "      <td>129.240005</td>\n",
       "      <td>129.240005</td>\n",
       "      <td>39630000</td>\n",
       "    </tr>\n",
       "    <tr>\n",
       "      <th>2022-01-27</th>\n",
       "      <td>131.360992</td>\n",
       "      <td>132.609955</td>\n",
       "      <td>128.945007</td>\n",
       "      <td>129.121002</td>\n",
       "      <td>129.121002</td>\n",
       "      <td>30248000</td>\n",
       "    </tr>\n",
       "    <tr>\n",
       "      <th>2022-01-28</th>\n",
       "      <td>130.000000</td>\n",
       "      <td>133.370499</td>\n",
       "      <td>128.694504</td>\n",
       "      <td>133.289505</td>\n",
       "      <td>133.289505</td>\n",
       "      <td>30518000</td>\n",
       "    </tr>\n",
       "    <tr>\n",
       "      <th>2022-01-31</th>\n",
       "      <td>134.197998</td>\n",
       "      <td>135.843506</td>\n",
       "      <td>132.274002</td>\n",
       "      <td>135.698502</td>\n",
       "      <td>135.698502</td>\n",
       "      <td>34056000</td>\n",
       "    </tr>\n",
       "  </tbody>\n",
       "</table>\n",
       "<p>272 rows × 6 columns</p>\n",
       "</div>"
      ],
      "text/plain": [
       "                  Open        High         Low       Close   Adj Close  \\\n",
       "Date                                                                     \n",
       "2021-01-04   87.876999   88.032501   85.392502   86.412003   86.412003   \n",
       "2021-01-05   86.250000   87.383499   85.900749   87.045998   87.045998   \n",
       "2021-01-06   85.131500   87.400002   84.949997   86.764503   86.764503   \n",
       "2021-01-07   87.002998   89.419998   86.852501   89.362503   89.362503   \n",
       "2021-01-08   89.399002   90.491997   88.676750   90.360497   90.360497   \n",
       "...                ...         ...         ...         ...         ...   \n",
       "2022-01-25  128.435501  129.338501  126.377998  126.735497  126.735497   \n",
       "2022-01-26  130.592499  132.807495  127.153503  129.240005  129.240005   \n",
       "2022-01-27  131.360992  132.609955  128.945007  129.121002  129.121002   \n",
       "2022-01-28  130.000000  133.370499  128.694504  133.289505  133.289505   \n",
       "2022-01-31  134.197998  135.843506  132.274002  135.698502  135.698502   \n",
       "\n",
       "              Volume  \n",
       "Date                  \n",
       "2021-01-04  38038000  \n",
       "2021-01-05  22906000  \n",
       "2021-01-06  52042000  \n",
       "2021-01-07  45300000  \n",
       "2021-01-08  41012000  \n",
       "...              ...  \n",
       "2022-01-25  36008000  \n",
       "2022-01-26  39630000  \n",
       "2022-01-27  30248000  \n",
       "2022-01-28  30518000  \n",
       "2022-01-31  34056000  \n",
       "\n",
       "[272 rows x 6 columns]"
      ]
     },
     "execution_count": 24,
     "metadata": {},
     "output_type": "execute_result"
    }
   ],
   "source": [
    "data = yf.download(\"GOOG\", start=\"2021-01-01\", end=\"2022-02-01\")\n",
    "data"
   ]
  },
  {
   "cell_type": "code",
   "execution_count": 25,
   "metadata": {},
   "outputs": [
    {
     "data": {
      "text/plain": [
       "272"
      ]
     },
     "execution_count": 25,
     "metadata": {},
     "output_type": "execute_result"
    }
   ],
   "source": [
    "# https://pandas.pydata.org/docs/reference/api/pandas.DataFrame.to_sql.html\n",
    "# Flush data or APPEND (the latter is better)\n",
    "data.to_sql(name='tickers', \n",
    "            index=True,\n",
    "            # index_label='',\n",
    "            if_exists='append',\n",
    "            con=conn)"
   ]
  },
  {
   "cell_type": "code",
   "execution_count": 27,
   "metadata": {},
   "outputs": [],
   "source": [
    "conn.close()"
   ]
  }
 ],
 "metadata": {
  "kernelspec": {
   "display_name": "Python 3 (ipykernel)",
   "language": "python",
   "name": "python3"
  },
  "language_info": {
   "codemirror_mode": {
    "name": "ipython",
    "version": 3
   },
   "file_extension": ".py",
   "mimetype": "text/x-python",
   "name": "python",
   "nbconvert_exporter": "python",
   "pygments_lexer": "ipython3",
   "version": "3.9.12"
  },
  "orig_nbformat": 4
 },
 "nbformat": 4,
 "nbformat_minor": 2
}
